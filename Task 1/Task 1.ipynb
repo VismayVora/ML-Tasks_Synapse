{
 "cells": [
  {
   "cell_type": "code",
   "execution_count": 1,
   "id": "promotional-pastor",
   "metadata": {},
   "outputs": [
    {
     "name": "stdout",
     "output_type": "stream",
     "text": [
      "Number of contours is: 16\n",
      "Areas: [4050.0, 4048.0, 3299.5, 3296.5, 8244.5, 8244.0, 6890.0, 6888.0, 12785.0, 12784.0, 11335.0, 11333.5, 22726.5, 22725.0, 20585.0, 20583.5]\n",
      "12\n"
     ]
    },
    {
     "data": {
      "text/plain": [
       "-1"
      ]
     },
     "execution_count": 1,
     "metadata": {},
     "output_type": "execute_result"
    }
   ],
   "source": [
    "import cv2 as cv\n",
    "\n",
    "img = cv.imread('Rectangles.png')\n",
    "img_gray = cv.cvtColor(img,cv.COLOR_BGR2GRAY)\n",
    "\n",
    "cv.imshow('Image',img)\n",
    "cv.waitKey(0)\n",
    "\n",
    "cv.imshow('Gray Image',img_gray)\n",
    "cv.waitKey(0)\n",
    "\n",
    "canny_edged_img = cv.Canny(img_gray,40,250)\n",
    "contours, hierarchy = cv.findContours(canny_edged_img, cv.RETR_TREE, cv.CHAIN_APPROX_SIMPLE)\n",
    "print(\"Number of contours is:\",len(contours))\n",
    "\n",
    "cv.drawContours(canny_edged_img,contours,-1,(255,0,0),3)\n",
    "cv.imshow('Contours over Canny',canny_edged_img)\n",
    "cv.waitKey(0)\n",
    "\n",
    "# Area Calculation and Comparison\n",
    "areas = []\n",
    "for contour in contours:\n",
    "    area = cv.contourArea(contour)\n",
    "    areas.append(area)\n",
    "print(\"Areas:\",areas)\n",
    "\n",
    "largest_area = max(areas)\n",
    "largest_area_index = areas.index(largest_area)\n",
    "print(largest_area_index)\n",
    "\n",
    "cnt = contours[largest_area_index]\n",
    "cv.drawContours(img, [cnt],0, (0,255,0), 3)\n",
    "cv.imshow(\"Largest Rectangle\",img)\n",
    "cv.waitKey(0)"
   ]
  },
  {
   "cell_type": "code",
   "execution_count": null,
   "id": "cardiac-tomato",
   "metadata": {},
   "outputs": [],
   "source": []
  }
 ],
 "metadata": {
  "kernelspec": {
   "display_name": "Python 3",
   "language": "python",
   "name": "python3"
  },
  "language_info": {
   "codemirror_mode": {
    "name": "ipython",
    "version": 3
   },
   "file_extension": ".py",
   "mimetype": "text/x-python",
   "name": "python",
   "nbconvert_exporter": "python",
   "pygments_lexer": "ipython3",
   "version": "3.9.5"
  }
 },
 "nbformat": 4,
 "nbformat_minor": 5
}
